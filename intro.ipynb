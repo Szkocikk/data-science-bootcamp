{
  "nbformat": 4,
  "nbformat_minor": 0,
  "metadata": {
    "colab": {
      "provenance": [],
      "authorship_tag": "ABX9TyP+1fU6E7g1Cs/cnK4X/fjw",
      "include_colab_link": true
    },
    "kernelspec": {
      "name": "python3",
      "display_name": "Python 3"
    },
    "language_info": {
      "name": "python"
    }
  },
  "cells": [
    {
      "cell_type": "markdown",
      "metadata": {
        "id": "view-in-github",
        "colab_type": "text"
      },
      "source": [
        "<a href=\"https://colab.research.google.com/github/Szkocikk/data-science-bootcamp/blob/main/intro.ipynb\" target=\"_parent\"><img src=\"https://colab.research.google.com/assets/colab-badge.svg\" alt=\"Open In Colab\"/></a>"
      ]
    },
    {
      "cell_type": "code",
      "execution_count": 1,
      "metadata": {
        "colab": {
          "base_uri": "https://localhost:8080/"
        },
        "id": "kuKBkeWKm2qA",
        "outputId": "fbe79b26-a2c2-4fab-9f09-f619b0e7e8a3"
      },
      "outputs": [
        {
          "output_type": "stream",
          "name": "stdout",
          "text": [
            "Hello colab\n"
          ]
        }
      ],
      "source": [
        "print('Hello colab')"
      ]
    },
    {
      "cell_type": "markdown",
      "source": [
        "Tekst"
      ],
      "metadata": {
        "id": "y60Zw4iCn2Di"
      }
    },
    {
      "cell_type": "code",
      "source": [],
      "metadata": {
        "id": "sycKsyBjnwUt"
      },
      "execution_count": null,
      "outputs": []
    }
  ]
}